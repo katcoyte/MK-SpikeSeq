{
 "cells": [
  {
   "cell_type": "markdown",
   "metadata": {},
   "source": [
    "## SI Figure Noise analysis\n",
    "Katharine Z. Coyte January 2020\n",
    "\n",
    "Code to process data prior to noise calculations (these done in R) then plot results"
   ]
  },
  {
   "cell_type": "code",
   "execution_count": 12,
   "metadata": {},
   "outputs": [
    {
     "name": "stdout",
     "output_type": "stream",
     "text": [
      "The autoreload extension is already loaded. To reload it, use:\n",
      "  %reload_ext autoreload\n"
     ]
    }
   ],
   "source": [
    "import numpy as np\n",
    "import pandas as pd\n",
    "\n",
    "import matplotlib.pyplot as plt\n",
    "from matplotlib import gridspec\n",
    "import seaborn as sns; sns.set(color_codes=True)\n",
    "\n",
    "import miseq_functions as jnf\n",
    "\n",
    "%matplotlib inline\n",
    "%load_ext autoreload\n",
    "sns.set_style('whitegrid')"
   ]
  },
  {
   "cell_type": "markdown",
   "metadata": {},
   "source": [
    "# Load data an filter for prevalence"
   ]
  },
  {
   "cell_type": "code",
   "execution_count": 13,
   "metadata": {},
   "outputs": [],
   "source": [
    "tl='genus' \n",
    "prevalence_threshold = 30\n",
    "relative_abundance_threshold = 0.005\n",
    "\n",
    "\n",
    "\n",
    "all_meds = pd.read_excel('allMeds.xlsx')\n",
    "all_weights = pd.read_excel('daily_weights.xlsx')\n",
    "all_baby_info = pd.read_csv('all_baby_info_oct2.csv')\n",
    "\n",
    "\n",
    "data_bac, otu_table_bac = jnf.load_microbiome_data(file_name = '20190207_NICU_rDNA_zOTU-table_mod2.xlsx',\n",
    "                         sheet_name = 'bac16S')\n",
    "\n",
    "data_fun, otu_table_fun = jnf.load_microbiome_data(file_name = '20190207_NICU_rDNA_zOTU-table_mod2.xlsx',\n",
    "                         sheet_name = 'ITS1')\n",
    "\n",
    "\n",
    "data_bacteria = jnf.process_NICU_data_for_plotting(data_bac, otu_table_bac, 'Bacteria', tl)\n",
    "data_fungi = jnf.process_NICU_data_for_plotting(data_fun, otu_table_fun, 'Fungi', tl)\n",
    "\n",
    "data = pd.concat([data_bacteria, data_fungi.drop(['babyid', 'day'],1)],1, sort=False).fillna(0)\n",
    "otu_table = pd.concat([otu_table_bac, otu_table_fun])\n",
    "\n",
    "\n",
    "relative_bacteria = jnf.get_relative_abundances(data_bacteria)\n",
    "relative_fungi = jnf.get_relative_abundances(data_fungi)"
   ]
  },
  {
   "cell_type": "code",
   "execution_count": null,
   "metadata": {},
   "outputs": [],
   "source": []
  },
  {
   "cell_type": "code",
   "execution_count": 8,
   "metadata": {},
   "outputs": [],
   "source": [
    "# Get individual time series for each infant \n",
    "\n",
    "# Bacteria\n",
    "for baby in np.unique(relative_bacteria.babyid):\n",
    "\n",
    "    foo = relative_bacteria.loc[relative_bacteria.babyid==baby].copy()\n",
    "    foo = foo.drop(foo.loc[foo.index.str.contains('Next', regex=False),:].index) # only look at high time resolution samples\n",
    "    foo2 = foo.max()\n",
    "    \n",
    "    foo2 = relative_bacteria.loc[relative_bacteria.babyid==baby].copy()\n",
    "    foo2 = foo2.iloc[:,2:]\n",
    "    foo2 = foo2[foo2>0]\n",
    "    foo2 = foo2.fillna(0)\n",
    "    foo2[foo2>0]=1\n",
    "    drop_cols = foo2.columns[foo2.sum() < 3] # drop any genera that are only present for < 3 days\n",
    "    foo = foo.drop(drop_cols,1)\n",
    "    \n",
    "    \n",
    "    foo = data_bacteria.loc[foo.index,foo.columns]\n",
    "    save_string = 'new_bacteria_otu_data_for_r_'+ baby + '.csv'\n",
    "    #foo.to_csv(save_string)\n",
    "    \n",
    "    \n",
    "# Fungi\n",
    "for baby in np.unique(relative_fungi.babyid):\n",
    "\n",
    "    foo = relative_fungi.loc[relative_fungi.babyid==baby].copy()\n",
    "    foo = foo.drop(foo.loc[foo.index.str.contains('Next', regex=False),:].index)\n",
    "    foo2 = foo.max()\n",
    "        \n",
    "    foo2 = relative_fungi.loc[relative_fungi.babyid==baby].copy()\n",
    "    foo2 = foo2.iloc[:,2:]\n",
    "    foo2 = foo2[foo2>0]\n",
    "    foo2 = foo2.fillna(0)\n",
    "    foo2[foo2>0]=1\n",
    "    drop_cols = foo2.columns[foo2.sum() < 3]\n",
    "    foo = foo.drop(drop_cols,1)\n",
    "\n",
    "    foo = data_fungi.loc[foo.index,foo.columns]\n",
    "    foo = foo.dropna()\n",
    "    save_string = 'new_fungi_otu_data_for_r_'+ baby + '.csv'\n",
    "    #foo.to_csv(save_string)"
   ]
  },
  {
   "cell_type": "code",
   "execution_count": null,
   "metadata": {},
   "outputs": [],
   "source": []
  },
  {
   "cell_type": "markdown",
   "metadata": {},
   "source": [
    "# *** Run R code for noise calculations ***"
   ]
  },
  {
   "cell_type": "code",
   "execution_count": null,
   "metadata": {},
   "outputs": [],
   "source": []
  },
  {
   "cell_type": "markdown",
   "metadata": {},
   "source": [
    "# Load and plot noise data"
   ]
  },
  {
   "cell_type": "code",
   "execution_count": 17,
   "metadata": {},
   "outputs": [
    {
     "name": "stderr",
     "output_type": "stream",
     "text": [
      "/Users/katcoyte/anaconda3/lib/python3.7/site-packages/matplotlib/figure.py:2144: UserWarning: This figure was using constrained_layout==True, but that is incompatible with subplots_adjust and or tight_layout: setting constrained_layout==False. \n",
      "  warnings.warn(\"This figure was using constrained_layout==True, \"\n"
     ]
    },
    {
     "data": {
      "image/png": "[encoded data removed]",
      "text/plain": [
       "<Figure size 576x576 with 2 Axes>"
      ]
     },
     "metadata": {},
     "output_type": "display_data"
    }
   ],
   "source": [
    "# Bacteria noise - per baby\n",
    "save_baby_noise_bacteria = pd.read_csv('save_noise_small_bacteria.csv').set_index('Unnamed: 0')\n",
    "for ix in save_baby_noise_bacteria.index:\n",
    "    save_baby_noise_bacteria.loc[ix, :] = save_baby_noise_bacteria.loc[ix, :] / sum(save_baby_noise_bacteria.loc[ix, :])\n",
    "save_baby_noise_bacteria = save_baby_noise_bacteria.sort_values(by='white')\n",
    "\n",
    "# Fungi noise - per baby\n",
    "save_baby_noise_fungi = pd.read_csv('save_noise_small_fungi.csv').set_index('Unnamed: 0')\n",
    "for ix in save_baby_noise_fungi.index:\n",
    "    save_baby_noise_fungi.loc[ix, :] = save_baby_noise_fungi.loc[ix, :] / sum(save_baby_noise_fungi.loc[ix, :])\n",
    "save_baby_noise_fungi = save_baby_noise_fungi.sort_values(by='white')\n",
    "\n",
    "\n",
    "fig3 = plt.figure(constrained_layout=True, figsize=(8,8))\n",
    "gs = fig3.add_gridspec(2, 3)\n",
    "\n",
    "noise_bac = fig3.add_subplot(gs[0, 0:3])\n",
    "noise_bac.set_title('Bacteria noise profile')\n",
    "\n",
    "noise_fun = fig3.add_subplot(gs[1, 0:3])\n",
    "noise_fun.set_title('Fungi noise profile')\n",
    "\n",
    "\n",
    "\n",
    "### BACTERIA NOISE PROFILE ###\n",
    "\n",
    "save_baby_noise_bacteria.plot(kind='bar',\n",
    "                     stacked=True,\n",
    "                     color = ['black', 'brown', 'pink', 'white'],\n",
    "                     edgecolor = 'black',\n",
    "                     lw = 0.5,\n",
    "                    ax = noise_bac)\n",
    "\n",
    "#noise_bac.set_xlabel('Baby ID')\n",
    "noise_bac.set_xlabel('')\n",
    "noise_bac.set_ylabel('% Noise type')\n",
    "noise_bac.set_ylim(0,1)\n",
    "noise_bac.get_legend().set_visible(False)\n",
    "\n",
    "\n",
    "### FUNGI NOISE PROFILE ###\n",
    "\n",
    "save_baby_noise_fungi.plot(kind='bar',\n",
    "                     stacked=True,\n",
    "                     color = ['black', 'brown', 'pink', 'white'],\n",
    "                     edgecolor = 'black',\n",
    "                     lw = 0.5,\n",
    "                    ax = noise_fun)\n",
    "\n",
    "noise_fun.set_xlabel('Baby ID')\n",
    "noise_fun.set_ylabel('% Noise type')\n",
    "noise_fun.set_ylim(0,1)\n",
    "noise_fun.get_legend().set_visible(False)\n",
    "\n",
    "\n",
    "plt.tight_layout()\n",
    "plt.show()"
   ]
  },
  {
   "cell_type": "code",
   "execution_count": null,
   "metadata": {},
   "outputs": [],
   "source": []
  }
 ],
 "metadata": {
  "kernelspec": {
   "display_name": "Python 3",
   "language": "python",
   "name": "python3"
  },
  "language_info": {
   "codemirror_mode": {
    "name": "ipython",
    "version": 3
   },
   "file_extension": ".py",
   "mimetype": "text/x-python",
   "name": "python",
   "nbconvert_exporter": "python",
   "pygments_lexer": "ipython3",
   "version": "3.7.1"
  }
 },
 "nbformat": 4,
 "nbformat_minor": 2
}
